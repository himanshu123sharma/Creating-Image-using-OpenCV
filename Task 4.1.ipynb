{
 "cells": [
  {
   "cell_type": "markdown",
   "metadata": {},
   "source": [
    "# Task 4.1 Create an image by yourself Using Python Code"
   ]
  },
  {
   "cell_type": "code",
   "execution_count": 1,
   "metadata": {},
   "outputs": [],
   "source": [
    "import cv2\n",
    "import numpy as np"
   ]
  },
  {
   "cell_type": "code",
   "execution_count": 2,
   "metadata": {},
   "outputs": [],
   "source": [
    "img = np.zeros((1000,1000,3),np.uint8)\n",
    "hsv = cv2.cvtColor(img,cv2.COLOR_BGR2HSV)\n"
   ]
  },
  {
   "cell_type": "code",
   "execution_count": 3,
   "metadata": {},
   "outputs": [],
   "source": [
    "img[0:1000,0:1000]=[0,0,0]      #black\n",
    "\n",
    "img = cv2.circle(img,(500,400),260,(255,255,255),-1)\n",
    "\n",
    "img = cv2.circle(img,(400,300),40,(0,0,0),-1)\n",
    "\n",
    "img = cv2.circle(img,(400,300),5,(255,255,255),-1)\n",
    "\n",
    "img = cv2.circle(img,(600,300),40,(0,0,0),-1)\n",
    "\n",
    "img = cv2.circle(img,(600,300),5,(255,255,255),-1)\n",
    "\n",
    "img = cv2.circle(img,(500,450),30,(0,0,0),-1)\n",
    "\n",
    "img = cv2.ellipse(img,(500,530),(100,40),0,0,180,0,10)\n",
    "\n",
    "\n"
   ]
  },
  {
   "cell_type": "code",
   "execution_count": 4,
   "metadata": {},
   "outputs": [],
   "source": [
    "cv2.imshow('TASK 4.1',img)\n",
    "cv2.waitKey(0)\n",
    "cv2.destroyAllWindows()"
   ]
  },
  {
   "cell_type": "code",
   "execution_count": null,
   "metadata": {},
   "outputs": [],
   "source": []
  }
 ],
 "metadata": {
  "kernelspec": {
   "display_name": "Python 3",
   "language": "python",
   "name": "python3"
  },
  "language_info": {
   "codemirror_mode": {
    "name": "ipython",
    "version": 3
   },
   "file_extension": ".py",
   "mimetype": "text/x-python",
   "name": "python",
   "nbconvert_exporter": "python",
   "pygments_lexer": "ipython3",
   "version": "3.7.6"
  }
 },
 "nbformat": 4,
 "nbformat_minor": 4
}
